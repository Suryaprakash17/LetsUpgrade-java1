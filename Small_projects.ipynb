{
  "nbformat": 4,
  "nbformat_minor": 0,
  "metadata": {
    "colab": {
      "name": "Small projects.ipynb",
      "provenance": [],
      "collapsed_sections": [],
      "authorship_tag": "ABX9TyPVQCjE8HettuNVHA/4NWVK",
      "include_colab_link": true
    },
    "kernelspec": {
      "name": "python3",
      "display_name": "Python 3"
    }
  },
  "cells": [
    {
      "cell_type": "markdown",
      "metadata": {
        "id": "view-in-github",
        "colab_type": "text"
      },
      "source": [
        "<a href=\"https://colab.research.google.com/github/Suryaprakash17/LetsUpgrade-java1/blob/main/Small_projects.ipynb\" target=\"_parent\"><img src=\"https://colab.research.google.com/assets/colab-badge.svg\" alt=\"Open In Colab\"/></a>"
      ]
    },
    {
      "cell_type": "markdown",
      "metadata": {
        "id": "yz_4Fia7CxdR"
      },
      "source": [
        "1. Jumbled Word"
      ]
    },
    {
      "cell_type": "code",
      "metadata": {
        "id": "TfPjwxFBDEwp",
        "outputId": "ff1265f8-710d-4cc7-80b6-36ab7a4d6555",
        "colab": {
          "base_uri": "https://localhost:8080/"
        }
      },
      "source": [
        "lst =[\"RANIBOW\",\"RAINBOW\",\"BOWRANI\",\"ROBWANI\"]\n",
        "print(\"Given word = OBANWRI\")\n",
        "print(\"1. RANIBOW \\n2. RAINBOW \\n3. BOWRANI \\n4. ROBWANI\")\n",
        "x = int(input(\"Enter any option = \"))\n",
        "if x==1:\n",
        "  print(1,\"is the wrong answer\")\n",
        "elif x==2:\n",
        "  print(2,\"is the correct answer\")\n",
        "elif x==3:\n",
        "  print(3,\"is the wrong answer\")\n",
        "elif x==4: \n",
        "  print(4,\"is the wrong answer\")\n",
        "else:\n",
        "  print(\"Incorrect option\")  "
      ],
      "execution_count": null,
      "outputs": [
        {
          "output_type": "stream",
          "text": [
            "Given word = OBANWRI\n",
            "1. RANIBOW \n",
            "2. RAINBOW \n",
            "3. BOWRANI \n",
            "4. ROBWANI\n",
            "Enter any option = 2\n",
            "2 is the correct answer\n"
          ],
          "name": "stdout"
        }
      ]
    },
    {
      "cell_type": "markdown",
      "metadata": {
        "id": "HK6eatsA-Q9A"
      },
      "source": [
        "**2. Print in Caps**"
      ]
    },
    {
      "cell_type": "code",
      "metadata": {
        "id": "5JuQAHTu_rfM",
        "outputId": "4c1870b8-391c-4c3e-ecce-da24bf68dc02",
        "colab": {
          "base_uri": "https://localhost:8080/"
        }
      },
      "source": [
        "var='lets upgrade'\n",
        "print(var.upper())"
      ],
      "execution_count": null,
      "outputs": [
        {
          "output_type": "stream",
          "text": [
            "LETS UPGRADE\n"
          ],
          "name": "stdout"
        }
      ]
    },
    {
      "cell_type": "markdown",
      "metadata": {
        "id": "sV_7Egk8ZRxg"
      },
      "source": [
        "**3. Porfit or Loss**"
      ]
    },
    {
      "cell_type": "code",
      "metadata": {
        "id": "ZlREkL8ohebN",
        "outputId": "36d109df-d037-4da9-9873-1a9fa92bb09d",
        "colab": {
          "base_uri": "https://localhost:8080/"
        }
      },
      "source": [
        "sp=float(input(\"Enter selling price :\"))  #selling price=sp\n",
        "cp=float(input(\"Enter cost price :\"))     #cost price=cp \n",
        "if sp>cp:\n",
        "  print(\"Profit amount is\",sp-cp)\n",
        "elif sp==cp:\n",
        "  print(\"No loss or profit\")\n",
        "else:\n",
        "  print(\"Loss amount is\",cp-sp)"
      ],
      "execution_count": null,
      "outputs": [
        {
          "output_type": "stream",
          "text": [
            "Enter selling price :90\n",
            "Enter cost price :80\n",
            "Profit amount is 10.0\n"
          ],
          "name": "stdout"
        }
      ]
    },
    {
      "cell_type": "markdown",
      "metadata": {
        "id": "xkChxlghjkq7"
      },
      "source": [
        "**4. Euros into Rupees**"
      ]
    },
    {
      "cell_type": "code",
      "metadata": {
        "id": "tg3z_um3kedV",
        "outputId": "e14982aa-d224-4052-aff5-6af81d4e6455",
        "colab": {
          "base_uri": "https://localhost:8080/"
        }
      },
      "source": [
        "x=float(input(\"Euro:\"))\n",
        "y=80.29\n",
        "rupees=x*y\n",
        "print(\"INR is\",rupees)"
      ],
      "execution_count": null,
      "outputs": [
        {
          "output_type": "stream",
          "text": [
            "Euro:2\n",
            "INR is 160.58\n"
          ],
          "name": "stdout"
        }
      ]
    }
  ]
}